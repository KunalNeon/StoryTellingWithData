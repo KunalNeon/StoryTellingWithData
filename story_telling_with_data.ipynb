{
 "cells": [
  {
   "cell_type": "markdown",
   "id": "388c2ed0-8ebf-4adc-bf61-bc3b7615f362",
   "metadata": {},
   "source": [
    "## Story Telling With Data"
   ]
  },
  {
   "cell_type": "code",
   "execution_count": 1,
   "id": "5c54d51b-53b1-413b-b14b-cbe15be9bd2a",
   "metadata": {},
   "outputs": [
    {
     "name": "stdout",
     "output_type": "stream",
     "text": [
      "Let us tell the story from the data\n"
     ]
    }
   ],
   "source": [
    "print(\"Let us tell the story from the data\")"
   ]
  }
 ],
 "metadata": {
  "kernelspec": {
   "display_name": "Python [conda env:base] *",
   "language": "python",
   "name": "conda-base-py"
  },
  "language_info": {
   "codemirror_mode": {
    "name": "ipython",
    "version": 3
   },
   "file_extension": ".py",
   "mimetype": "text/x-python",
   "name": "python",
   "nbconvert_exporter": "python",
   "pygments_lexer": "ipython3",
   "version": "3.12.7"
  }
 },
 "nbformat": 4,
 "nbformat_minor": 5
}
